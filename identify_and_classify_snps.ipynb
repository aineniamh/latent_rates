{
 "cells": [
  {
   "cell_type": "markdown",
   "metadata": {},
   "source": [
    "**Table of Contents**\n",
    "<div id=\"toc\"></div>"
   ]
  },
  {
   "cell_type": "markdown",
   "metadata": {},
   "source": [
    "# IMPORTS"
   ]
  },
  {
   "cell_type": "code",
   "execution_count": 618,
   "metadata": {},
   "outputs": [],
   "source": [
    "from ete3 import Tree\n",
    "import collections\n",
    "from collections import Counter\n",
    "from Bio import AlignIO\n",
    "from Bio import SeqIO\n",
    "import numpy as np"
   ]
  },
  {
   "cell_type": "markdown",
   "metadata": {},
   "source": [
    "# FUNCTION DEFINITIONS"
   ]
  },
  {
   "cell_type": "code",
   "execution_count": 619,
   "metadata": {},
   "outputs": [],
   "source": [
    "# FUNCTION DEFINITIONS #\n",
    "\n",
    "def check_and_count(tree, old_count, snp, major_variant, minor_variant, minor_freq):\n",
    "    check = minor_major_monophyly_check(tree, snp, major_variant, minor_variant, minor_freq)\n",
    "    return tuple(map(lambda x, y: x + y, old_count, check))\n",
    "\n",
    "def minor_major_monophyly_check(tree, snp, major_variant, minor_variant, minor_freq):\n",
    "#     print(snp, major_variant, minor_variant)\n",
    "    count = (0,0,0,0)\n",
    "    if minor_freq==1:\n",
    "        snp_classifier['only_occurs_once'].append((snp, minor_variant))\n",
    "        count = (1,0,0,0)\n",
    "    else:\n",
    "        minor_monophyly_check = tree.check_monophyly(values=[minor_variant], target_attr=\"snp\") \n",
    "        if minor_monophyly_check[0]:\n",
    "            snp_classifier['minor_monophyly'].append((snp, minor_variant))\n",
    "            count = (0,1,0,0)\n",
    "        elif not minor_monophyly_check[0]:\n",
    "            major_monophyly_check = tree.check_monophyly(values=[major_variant], target_attr=\"snp\")\n",
    "            if major_monophyly_check[0]:\n",
    "                snp_classifier['major_monophyly'].append((snp, major_variant))\n",
    "                count = (0,0,1,0)\n",
    "            elif not major_monophyly_check[0]:\n",
    "                snp_classifier['not_monophyly'].append((snp, major_variant + ':'+minor_variant))\n",
    "                count = (0,0,0,1)\n",
    "    return count"
   ]
  },
  {
   "cell_type": "markdown",
   "metadata": {},
   "source": [
    "# CREATING THE SNP DICT \n"
   ]
  },
  {
   "cell_type": "code",
   "execution_count": 620,
   "metadata": {},
   "outputs": [],
   "source": [
    "# CREATING THE SNP DICT #\n",
    "snp_dict = {}\n",
    "\n",
    "a = AlignIO.read(\"EBOV_Reference_Set_with_marginalAncestralStates.fasta\",\"fasta\")\n",
    "aa = np.array([list(rec) for rec in a], np.character, order=\"F\")\n",
    "\n",
    "for i in range(len(a[0])): #for each base up to the length of the alignment\n",
    "    bp = aa[:, i:i+1] \n",
    "    bases = []\n",
    "    for item in bp:\n",
    "        bases.append(item[0])\n",
    "    c =1\n",
    "    if i < 100 or i > 18880:\n",
    "        for ambig in ['N','?','-']:\n",
    "            if ambig in bases:\n",
    "                c +=1\n",
    "        if len(set(bases))>c:\n",
    "            snp_dict['snp_'+str(i+1)]=bases\n",
    "    elif 'N' in bases:\n",
    "        if len(set(bases))>2:\n",
    "            snp_dict['snp_'+str(i+1)]=bases\n",
    "    else:\n",
    "        if len(set(bases))>1:\n",
    "            snp_dict['snp_'+str(i+1)]=bases\n"
   ]
  },
  {
   "cell_type": "markdown",
   "metadata": {},
   "source": [
    "# CREATING THE INDEX DICT"
   ]
  },
  {
   "cell_type": "code",
   "execution_count": 617,
   "metadata": {},
   "outputs": [],
   "source": [
    "# CREATING THE INDEX DICT #\n",
    "# LETS YOU KNOW WHICH ITEM IN THE SNP DICT VALUE (I.E. BASES LIST) CORRESPONDS TO WHICH RECORD IN THE ALIGNMENT #\n",
    "index_dict = {}\n",
    "c=0\n",
    "for record in a:\n",
    "    c +=1\n",
    "    index_dict[record.id]= c"
   ]
  },
  {
   "cell_type": "markdown",
   "metadata": {},
   "source": [
    "# COUNTING AND CLASSIFYING SNPS"
   ]
  },
  {
   "cell_type": "code",
   "execution_count": 621,
   "metadata": {},
   "outputs": [],
   "source": [
    "# DEFINING COUNTERS #\n",
    "simple_cases_counter = 0\n",
    "complex_cases_counter = 0\n",
    "early_gap =0\n",
    "late_gap =0\n",
    "ambiguous_base=0\n",
    "\n",
    "SIMPLE = (0,0,0,0)\n",
    "COMPLEX = (0,0,0,0)\n",
    "\n",
    "# CLASSIFYING THE SNPS #\n",
    "\n",
    "snp_classifier = collections.defaultdict(list)\n",
    "\n",
    "for snp in sorted(snp_dict, key= lambda x: float(x.split('_')[1])): \n",
    "    snp_count = Counter()\n",
    "    \n",
    "    t = Tree(\"raxml_results/RAxML_nodeLabelledRootedTree.RECON_with_OG_BRANCH_TREE\",format=8)\n",
    "    for node in t.traverse(\"preorder\"):\n",
    "        if node.is_leaf():\n",
    "            node.add_features(snp=snp_dict[snp][index_dict[node.name]-1])  #add snp annotations to each tip\n",
    "            snp_count[snp_dict[snp][index_dict[node.name]-1]]+=1 #count the leaf snp frequency\n",
    "            \n",
    "    snp_count = snp_count.most_common()   \n",
    "    \n",
    "    major_variant = snp_count[0][0]\n",
    "\n",
    "    # SIMPLE CASE #\n",
    "    if len(snp_count)==2:\n",
    "        # e.g. snp_189 [('G', 68), ('A', 4)]\n",
    "        simple_cases_counter +=1 \n",
    "        \n",
    "        minor_variant = snp_count[1][0]\n",
    "        minor_freq = snp_count[1][1]\n",
    "        \n",
    "        if minor_variant != 'N' and minor_variant != '?':\n",
    "            SIMPLE = check_and_count(t, SIMPLE, snp, major_variant, minor_variant, minor_freq)            \n",
    "    else:\n",
    "        # COMPLEX CASE #\n",
    "        # eg. snp_18913 [('G', 68), ('N', 3), ('A', 2), ('R', 2), ('-', 2)] #\n",
    "        complex_cases_counter +=1 \n",
    "        \n",
    "        for k in snp_count[1:]:\n",
    "#             print(k)\n",
    "            minor_variant = k[0]\n",
    "            minor_freq = k[1]\n",
    "        \n",
    "            if float(snp.split('_')[1]) < 100 and k[0]=='-':\n",
    "                early_gap += 1\n",
    "            elif k[0]=='N' or k[0]=='?':\n",
    "                ambiguous_base += 1\n",
    "            elif float(snp.split('_')[1]) > 7565:\n",
    "                if float(snp.split('_')[1]) > 18900 and k[0]=='-':\n",
    "                    late_gap +=1\n",
    "                else:\n",
    "                    new_id_list = [i for i in index_dict.keys() if i not in ['EBOV|JQ352763|Kikwit|Kikwit_DRC|1995-05-04','EBOV|HQ613403|M-M|DRC|2007-08-31','EBOV|HQ613402|034-KS|DRC|2008-12-31']]    \n",
    "                    t.prune(new_id_list)\n",
    "                    COMPLEX = check_and_count(t, COMPLEX, snp, major_variant, minor_variant, minor_freq)  \n",
    "            else:\n",
    "                COMPLEX = check_and_count(t, COMPLEX, snp, major_variant, minor_variant, minor_freq) \n",
    "\n"
   ]
  },
  {
   "cell_type": "markdown",
   "metadata": {},
   "source": [
    "# RESULT PRINT OUT"
   ]
  },
  {
   "cell_type": "code",
   "execution_count": 623,
   "metadata": {},
   "outputs": [
    {
     "name": "stdout",
     "output_type": "stream",
     "text": [
      "##### RESULTS #####\n",
      "Simple, Complex, Total:  641 + 901 = 1542\n",
      "\n",
      "\n",
      "##### SNP Classifier Dict #####\n",
      "only_occurs_once (All: 303 , Unique: 301 )\n",
      "not_monophyly (All: 101 , Unique: 100 )\n",
      "major_monophyly (All: 103 , Unique: 103 )\n",
      "minor_monophyly (All: 1065 , Unique: 1054 )\n",
      "\n",
      "\n",
      "##### Simple cases #####\n",
      "(only a single snp, minor monophyly, major monophyly, not monophyletic)\n",
      "(121, 441, 38, 41)\n",
      "\n",
      "\n",
      "##### Not quite as simple cases #####\n",
      "minor N or ?  882\n",
      "early -  5\n",
      "late -  3\n",
      "(only a single snp, minor monophyly, major monophyly, not monophyletic)\n",
      "(182, 624, 65, 60)\n",
      "\n",
      "\n",
      "##### Tally of the two #####\n",
      "( 303 1065 103 101 )\n"
     ]
    }
   ],
   "source": [
    "# RESULT PRINT OUT #\n",
    "print '##### RESULTS #####'\n",
    "print 'Simple, Complex, Total: ',simple_cases_counter, '+', complex_cases_counter,'=', simple_cases_counter+complex_cases_counter\n",
    "print '\\n'\n",
    "print '##### SNP Classifier Dict #####'\n",
    "for k in snp_classifier:\n",
    "    key_dict = collections.defaultdict(list)\n",
    "    for i in snp_classifier[k]:\n",
    "        key_dict[i[0]].append(i[1])\n",
    "    print k,'(All:', len(snp_classifier[k]), ', Unique:', len(key_dict), ')'\n",
    "print '\\n'    \n",
    "print '##### Simple cases #####'\n",
    "print '(only a single snp, minor monophyly, major monophyly, not monophyletic)'\n",
    "print SIMPLE\n",
    "print '\\n'        \n",
    "print '##### Not quite as simple cases #####'\n",
    "print 'minor N or ? ', ambiguous_base\n",
    "print 'early - ', early_gap\n",
    "print 'late - ', late_gap\n",
    "print '(only a single snp, minor monophyly, major monophyly, not monophyletic)'\n",
    "print COMPLEX\n",
    "print '\\n'   \n",
    "print '##### Tally of the two #####'\n",
    "print '(', SIMPLE[0]+COMPLEX[0], SIMPLE[1]+COMPLEX[1], SIMPLE[2]+COMPLEX[2], SIMPLE[3]+COMPLEX[3], ')'"
   ]
  },
  {
   "cell_type": "code",
   "execution_count": null,
   "metadata": {},
   "outputs": [],
   "source": []
  }
 ],
 "metadata": {
  "kernelspec": {
   "display_name": "Python 2",
   "language": "python",
   "name": "python2"
  },
  "language_info": {
   "codemirror_mode": {
    "name": "ipython",
    "version": 2
   },
   "file_extension": ".py",
   "mimetype": "text/x-python",
   "name": "python",
   "nbconvert_exporter": "python",
   "pygments_lexer": "ipython2",
   "version": "2.7.14"
  }
 },
 "nbformat": 4,
 "nbformat_minor": 2
}
